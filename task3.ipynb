{
 "cells": [
  {
   "cell_type": "markdown",
   "metadata": {},
   "source": [
    "# Task 3. Label Placement\n",
    "\n",
    "Implement the first variation of this task - no more than two placement options for each label and implement your own 2-SAT solver.\n",
    "\n",
    "Special thanks to Igor Dyachenko (@diht2016) for providing test input files! "
   ]
  },
  {
   "cell_type": "markdown",
   "metadata": {
    "id": "6Dpz63FUagm-"
   },
   "source": [
    "Importing required libraries:"
   ]
  },
  {
   "cell_type": "code",
   "execution_count": 1,
   "metadata": {
    "id": "Wb8BhetdThLk"
   },
   "outputs": [],
   "source": [
    "import networkx as nx\n",
    "from matplotlib import pyplot as plt\n",
    "from matplotlib.patches import Rectangle"
   ]
  },
  {
   "cell_type": "markdown",
   "metadata": {
    "id": "gtE1WWdHao8L"
   },
   "source": [
    "Color generator for painting bounding box:"
   ]
  },
  {
   "cell_type": "code",
   "execution_count": 2,
   "metadata": {
    "id": "1l1g94G0VyxP"
   },
   "outputs": [],
   "source": [
    "def color_generator():\n",
    "    i = 0\n",
    "    while True:\n",
    "        yield plt.rcParams['axes.prop_cycle'].by_key()['color'][i]\n",
    "        i = (i+1) % 10"
   ]
  },
  {
   "cell_type": "markdown",
   "metadata": {
    "id": "DyDL38LTauGO"
   },
   "source": [
    "Bounding Box class. Has methods for checking the intersection of two bounding boxes and the crossing of the canvas boundaries by the bounding box:"
   ]
  },
  {
   "cell_type": "code",
   "execution_count": 3,
   "metadata": {
    "id": "cTt2TSBhwWQO"
   },
   "outputs": [],
   "source": [
    "class Box:\n",
    "    def __init__(self, left_bottom, right_top):\n",
    "        self.a = left_bottom\n",
    "        self.b = right_top\n",
    "    \n",
    "    def intersects(self, other):\n",
    "        if self.b[0] < other.a[0] or other.b[0] < self.a[0]:\n",
    "            return False\n",
    "\n",
    "        if self.b[1] < other.a[1] or other.b[1] < self.a[1]:\n",
    "            return False\n",
    "\n",
    "        return True\n",
    "\n",
    "    def cross_borders(self, min_coords, max_coords):\n",
    "        return any([\n",
    "            self.a[0] < min_coords[0],\n",
    "            self.a[1] < min_coords[1], \n",
    "            self.b[0] > max_coords[0], \n",
    "            self.b[1] > max_coords[1]\n",
    "        ])"
   ]
  },
  {
   "cell_type": "markdown",
   "metadata": {
    "id": "hX6M9DlAa6ha"
   },
   "source": [
    "Point class. Has methods for finding intersections of two point bounding boxes, intersections of point bounding box and canvas boundaries, and displaying a point: "
   ]
  },
  {
   "cell_type": "code",
   "execution_count": 4,
   "metadata": {
    "id": "t9Z5TaKKJJ1X"
   },
   "outputs": [],
   "source": [
    "class Point:\n",
    "    def __init__(self, coords, box_size, box_pos_list):\n",
    "        self.coords = coords\n",
    "        self.box_size = box_size\n",
    "        self.boxes = []\n",
    "        self.value = None\n",
    "\n",
    "        for box_pos in box_pos_list:\n",
    "            a = [coords[i] - box_pos[i] for i in range(2)]\n",
    "            b = [coords[i] - box_pos[i] + box_size[i] for i in range(2)]\n",
    "            self.boxes.append(Box(a, b))\n",
    "\n",
    "    \n",
    "    def find_p2p_conflicts(self, other):\n",
    "        conflicts = []\n",
    "        for i, self_box in enumerate(self.boxes):\n",
    "            for j, other_box in enumerate(other.boxes):\n",
    "                if self_box.intersects(other_box):\n",
    "                    conflicts.append((i, j))\n",
    "        return conflicts\n",
    "\n",
    "    def find_border_conflicts(self, min_coords, max_coords):\n",
    "        conflicts = []\n",
    "        for i, box in enumerate(self.boxes):\n",
    "            if box.cross_borders(min_coords, max_coords):\n",
    "                conflicts.append(i)\n",
    "        return conflicts\n",
    "\n",
    "    def plot(self, ax, color):\n",
    "        ax.scatter([self.coords[0]], [self.coords[1]])\n",
    "        box = self.boxes[self.value]\n",
    "        width = box.b[0]-box.a[0]\n",
    "        height = box.b[1]-box.a[1]\n",
    "\n",
    "        box = Rectangle(\n",
    "            box.a,\n",
    "            width,\n",
    "            height,\n",
    "            facecolor='none',\n",
    "            edgecolor=color,\n",
    "            lw=1\n",
    "        )\n",
    "        ax.add_patch(box)"
   ]
  },
  {
   "cell_type": "markdown",
   "metadata": {
    "id": "1XqjO1dbbNLj"
   },
   "source": [
    "Main class for label placement:"
   ]
  },
  {
   "cell_type": "code",
   "execution_count": 5,
   "metadata": {
    "id": "3xxkJV6TMLDc"
   },
   "outputs": [],
   "source": [
    "class LabelPlacer:\n",
    "    def __init__(self, \n",
    "            filename,\n",
    "            limit=None,\n",
    "            min_coords=[0, 0],\n",
    "            max_coords=[500,500]):\n",
    "        self.points = self.read_input(filename, limit=limit)\n",
    "        self.min_coords = min_coords\n",
    "        self.max_coords = max_coords\n",
    "        self.G = nx.DiGraph()\n",
    "        for i in range(len(self.points)):\n",
    "            self.G.add_node(i + 1)\n",
    "            self.G.add_node(-i - 1)\n",
    "        self.colorgen = color_generator()\n",
    "\n",
    "    def calc_places(self):\n",
    "        \"\"\"Label placement choice method\"\"\"\n",
    "        p2p_conflicts = self.find_p2p_conflicts()\n",
    "        border_conflicts = self.find_border_conflicts()\n",
    "\n",
    "        self.create_graph_edges(p2p_conflicts, border_conflicts)\n",
    "        scc = self.make_scc()\n",
    "        self.G_condensed = nx.condensation(self.G, scc)\n",
    "        self.solvable = self.check_sat()\n",
    "        if self.solvable:        \n",
    "            scc_to_sorted = self.top_sort_condensed()\n",
    "            self.reassign_scc_nums(scc_to_sorted)\n",
    "            self.assign_values()\n",
    "        else:\n",
    "            print('No solution!')\n",
    "\n",
    "    def read_input(self, filename, limit=None):\n",
    "        points = []\n",
    "        with open(filename, 'r') as f:\n",
    "            lines = f.readlines()\n",
    "            if limit is not None:\n",
    "                lines = lines[:limit]\n",
    "            for line in lines:\n",
    "                data = line.strip('\\n').split('\\t')\n",
    "                coords = list(map(int, data[0].split(',')))\n",
    "                box_size = list(map(int, data[1].split(',')))\n",
    "                box_pos = [\n",
    "                    list(map(int, item.split(','))) for item in data[2].split(' ')\n",
    "                ]\n",
    "                points.append(Point(coords, box_size, box_pos))\n",
    "        return points\n",
    "\n",
    "    def find_p2p_conflicts(self):\n",
    "        \"\"\"Find conflicts between two points\"\"\"\n",
    "        p2p_conflicts = []\n",
    "        for i in range(len(self.points)-1):\n",
    "            for j in range(i+1, len(self.points)):\n",
    "                conflicts = self.points[i].find_p2p_conflicts(self.points[j])\n",
    "                if len(conflicts) > 0:\n",
    "                    p2p_conflicts.append((i + 1, j + 1, conflicts))\n",
    "        return p2p_conflicts\n",
    "\n",
    "    def find_border_conflicts(self):\n",
    "        \"\"\"Find conflicts between points and canvas boundaries\"\"\"\n",
    "        border_conflicts = []\n",
    "        for i in range(len(self.points)):\n",
    "            conflicts = self.points[i].find_border_conflicts(\n",
    "                self.min_coords,\n",
    "                self.max_coords\n",
    "            )\n",
    "            border_conflicts.append((i+1, conflicts))\n",
    "        return border_conflicts\n",
    "\n",
    "    def create_graph_edges(self, p2p_conflicts, border_conflicts):\n",
    "        \"\"\"Create implication graph\"\"\"\n",
    "        for i, j, conflicts in p2p_conflicts:\n",
    "            for state_i, state_j in conflicts:\n",
    "                mask_i = 2*state_i - 1  # Map [0,1] to [-1;1]\n",
    "                mask_j = 2*state_j - 1  # Map [0,1] to [-1;1]\n",
    "                self.G.add_edge(mask_i*i, -mask_j*j)\n",
    "                self.G.add_edge(mask_j*j, -mask_i*i)\n",
    "        for i, conflicts in border_conflicts:\n",
    "            for state in conflicts:\n",
    "                mask = 2*state - 1\n",
    "                self.G.add_edge(mask*i, -mask*i)\n",
    "\n",
    "    def make_scc(self):\n",
    "        \"\"\"Find strong connection components\"\"\"\n",
    "        scc = list(nx.kosaraju_strongly_connected_components(self.G))\n",
    "        for i, nodes in enumerate(scc):\n",
    "            for node in nodes:\n",
    "                self.G.nodes[node]['scc'] = i\n",
    "        return scc\n",
    "\n",
    "    def check_sat(self):\n",
    "        \"\"\"Checking the system's resolvability\"\"\"\n",
    "        num_points = len(self.G.nodes) // 2\n",
    "        for i in range(num_points):\n",
    "            if self.G.nodes[i + 1]['scc'] == self.G.nodes[-i - 1]['scc']:\n",
    "                return False\n",
    "        return True\n",
    "\n",
    "    def top_sort_condensed(self):\n",
    "        \"\"\"Run top sort of a condensed graph\"\"\"\n",
    "        scc_to_sorted = {}\n",
    "        for i, node in enumerate(nx.topological_sort(self.G_condensed)):\n",
    "            scc_to_sorted[node] = i\n",
    "        return scc_to_sorted\n",
    "\n",
    "    def reassign_scc_nums(self, scc_to_sorted):\n",
    "        \"\"\"Renumerate strong connection components according to top sort\"\"\"\n",
    "        for node in self.G.nodes:\n",
    "            self.G.nodes[node][\"scc\"] = scc_to_sorted[self.G.nodes[node][\"scc\"]]\n",
    "    \n",
    "    def assign_values(self):\n",
    "        \"\"\"Find value for bounding boxes\"\"\"\n",
    "        num_points = len(self.G.nodes) // 2\n",
    "        for i in range(num_points):\n",
    "            self.points[i].value = int(self.G.nodes[i + 1]['scc'] > self.G.nodes[-i - 1]['scc'])\n",
    "\n",
    "    def plot_points(self):\n",
    "        \"\"\"Plot points and bounding boxes\"\"\"\n",
    "        if self.solvable:\n",
    "            fig, ax = plt.subplots(figsize=(10, 10))\n",
    "            ax.set_title(\"Label Placement\")\n",
    "            for i, point in enumerate(self.points):\n",
    "                point.plot(ax, next(self.colorgen))\n",
    "                ax.annotate(str(i+1), point.coords)\n",
    "            plt.show()"
   ]
  },
  {
   "cell_type": "code",
   "execution_count": 7,
   "metadata": {
    "colab": {
     "base_uri": "https://localhost:8080/",
     "height": 607
    },
    "id": "6P8sPVFUlbcM",
    "outputId": "95af011a-386a-436d-941e-ec6a9dfb6e65"
   },
   "outputs": [
    {
     "data": {
      "image/png": "[encoded data removed]",
      "text/plain": [
       "<Figure size 720x720 with 1 Axes>"
      ]
     },
     "metadata": {
      "needs_background": "light"
     },
     "output_type": "display_data"
    }
   ],
   "source": [
    "lp = LabelPlacer(filename=\"inputs/task3_bin1.txt\")\n",
    "lp.calc_places()\n",
    "lp.plot_points()"
   ]
  },
  {
   "cell_type": "code",
   "execution_count": null,
   "metadata": {},
   "outputs": [],
   "source": []
  }
 ],
 "metadata": {
  "colab": {
   "name": "dataviz3.ipynb",
   "provenance": []
  },
  "kernelspec": {
   "display_name": "Python 3",
   "language": "python",
   "name": "python3"
  },
  "language_info": {
   "codemirror_mode": {
    "name": "ipython",
    "version": 3
   },
   "file_extension": ".py",
   "mimetype": "text/x-python",
   "name": "python",
   "nbconvert_exporter": "python",
   "pygments_lexer": "ipython3",
   "version": "3.8.8"
  }
 },
 "nbformat": 4,
 "nbformat_minor": 1
}
